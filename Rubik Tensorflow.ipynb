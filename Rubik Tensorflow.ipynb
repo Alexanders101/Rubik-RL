{
 "cells": [
  {
   "cell_type": "code",
   "execution_count": 1,
   "metadata": {
    "ExecuteTime": {
     "end_time": "2017-10-15T01:00:17.877836Z",
     "start_time": "2017-10-15T01:00:05.081572Z"
    }
   },
   "outputs": [
    {
     "name": "stderr",
     "output_type": "stream",
     "text": [
      "Using TensorFlow backend.\n"
     ]
    }
   ],
   "source": [
    "import keras\n",
    "import numpy as np\n",
    "import gym\n",
    "\n",
    "from RubiksEnv import RubiksEnv\n",
    "\n",
    "from numba import jit, uint8, float32\n",
    "\n",
    "from rl.memory import SequentialMemory\n",
    "from rl.policy import BoltzmannQPolicy, LinearAnnealedPolicy, EpsGreedyQPolicy\n",
    "from rl.agents import DQNAgent"
   ]
  },
  {
   "cell_type": "code",
   "execution_count": 2,
   "metadata": {
    "ExecuteTime": {
     "end_time": "2017-10-15T01:00:18.964090Z",
     "start_time": "2017-10-15T01:00:18.050123Z"
    }
   },
   "outputs": [],
   "source": [
    "@jit(float32(uint8[:, :, :, :]),nopython=True)\n",
    "def rubiks_hamilton_dist(cube):\n",
    "    x, y, z = cube.shape[:-1]\n",
    "    distance_corner = float(0.0)\n",
    "    distance_edge = float(0.0)\n",
    "    \n",
    "    distance_rot = float(0.0)\n",
    "    \n",
    "    \n",
    "    for i in range(x):\n",
    "        for j in range(y):\n",
    "            for k in range(z):\n",
    "                cubie = cube[i,j,k]\n",
    "                dist_rot = float(0.0)\n",
    "                \n",
    "                if np.any(cubie == 5):\n",
    "                    i_true = 0\n",
    "                    dist_rot += cubie[0] != 5\n",
    "                elif np.any(cubie == 3):\n",
    "                    i_true = 2\n",
    "                    dist_rot += cubie[0] != 3\n",
    "                else:\n",
    "                    i_true = 1\n",
    "                    \n",
    "                if np.any(cubie == 4):\n",
    "                    j_true = 0\n",
    "                    dist_rot += cubie[1] != 4\n",
    "                elif np.any(cubie == 2):\n",
    "                    j_true = 2\n",
    "                    dist_rot += cubie[1] != 2\n",
    "                else:\n",
    "                    j_true = 1\n",
    "                    \n",
    "                if np.any(cubie == 1):\n",
    "                    k_true = 0\n",
    "                    dist_rot += cubie[2] != 1\n",
    "                elif np.any(cubie == 6):\n",
    "                    k_true = 2\n",
    "                    dist_rot += cubie[2] != 6\n",
    "                else:\n",
    "                    k_true = 1\n",
    "                \n",
    "                distance = abs(i - i_true) + abs(j - j_true) + abs(k - k_true)\n",
    "                \n",
    "                num_zero = (cubie == 0).sum()\n",
    "                if (num_zero == 0):\n",
    "                    distance_corner += distance\n",
    "                elif (num_zero == 1):\n",
    "                    distance_edge += distance\n",
    "                    \n",
    "                distance_rot += dist_rot / float(3.0)\n",
    "                    \n",
    "    return 1 / (max(distance_corner, distance_edge) + distance_rot + 1)"
   ]
  },
  {
   "cell_type": "code",
   "execution_count": 3,
   "metadata": {
    "ExecuteTime": {
     "end_time": "2017-10-15T01:00:19.166296Z",
     "start_time": "2017-10-15T01:00:19.158684Z"
    }
   },
   "outputs": [],
   "source": [
    "env = RubiksEnv(rubiks_hamilton_dist, scrambles=2, max_step=2)\n",
    "nb_actions = env.action_space.n"
   ]
  },
  {
   "cell_type": "code",
   "execution_count": 4,
   "metadata": {
    "ExecuteTime": {
     "end_time": "2017-10-15T01:00:19.367050Z",
     "start_time": "2017-10-15T01:00:19.362265Z"
    },
    "collapsed": true
   },
   "outputs": [],
   "source": [
    "INPUT_SHAPE = env.observation_space.shape\n",
    "WINDOW_LENGTH = 1"
   ]
  },
  {
   "cell_type": "code",
   "execution_count": 10,
   "metadata": {
    "ExecuteTime": {
     "end_time": "2017-10-15T01:00:58.548668Z",
     "start_time": "2017-10-15T01:00:58.327959Z"
    }
   },
   "outputs": [
    {
     "name": "stdout",
     "output_type": "stream",
     "text": [
      "_________________________________________________________________\n",
      "Layer (type)                 Output Shape              Param #   \n",
      "=================================================================\n",
      "reshape_2 (Reshape)          (None, 3, 3, 3, 3)        0         \n",
      "_________________________________________________________________\n",
      "conv3d_2 (Conv3D)            (None, 2, 2, 2, 32)       800       \n",
      "_________________________________________________________________\n",
      "flatten_2 (Flatten)          (None, 256)               0         \n",
      "_________________________________________________________________\n",
      "dense_4 (Dense)              (None, 32)                8224      \n",
      "_________________________________________________________________\n",
      "dense_5 (Dense)              (None, 16)                528       \n",
      "_________________________________________________________________\n",
      "dense_6 (Dense)              (None, 12)                204       \n",
      "=================================================================\n",
      "Total params: 9,756\n",
      "Trainable params: 9,756\n",
      "Non-trainable params: 0\n",
      "_________________________________________________________________\n"
     ]
    }
   ],
   "source": [
    "model = keras.models.Sequential()\n",
    "\n",
    "model.add(keras.layers.Reshape(INPUT_SHAPE, input_shape=(WINDOW_LENGTH,) + INPUT_SHAPE))\n",
    "model.add(keras.layers.Convolution3D(filters=32, kernel_size=(2, 2, 2), strides=(1, 1, 1), activation='elu'))\n",
    "model.add(keras.layers.Flatten())\n",
    "\n",
    "model.add(keras.layers.Dense(32, activation='elu'))\n",
    "model.add(keras.layers.Dense(16, activation='elu'))\n",
    "model.add(keras.layers.Dense(nb_actions, activation='linear'))\n",
    "\n",
    "model.summary()"
   ]
  },
  {
   "cell_type": "code",
   "execution_count": 11,
   "metadata": {
    "ExecuteTime": {
     "end_time": "2017-10-15T01:00:58.752945Z",
     "start_time": "2017-10-15T01:00:58.737133Z"
    }
   },
   "outputs": [],
   "source": [
    "memory = SequentialMemory(limit=20000, window_length=WINDOW_LENGTH)\n",
    "processor = None"
   ]
  },
  {
   "cell_type": "code",
   "execution_count": 12,
   "metadata": {
    "ExecuteTime": {
     "end_time": "2017-10-15T01:00:58.984734Z",
     "start_time": "2017-10-15T01:00:58.980760Z"
    },
    "collapsed": true
   },
   "outputs": [],
   "source": [
    "policy = LinearAnnealedPolicy(EpsGreedyQPolicy(), attr='eps', value_max=0.8, value_min=.05, value_test=.05,\n",
    "                              nb_steps=40000)"
   ]
  },
  {
   "cell_type": "code",
   "execution_count": 13,
   "metadata": {
    "ExecuteTime": {
     "end_time": "2017-10-15T01:00:59.295264Z",
     "start_time": "2017-10-15T01:00:59.291002Z"
    },
    "collapsed": true
   },
   "outputs": [],
   "source": [
    "agent = DQNAgent(model=model, nb_actions=nb_actions, policy=policy, memory=memory, nb_steps_warmup=4000, gamma=.99, target_model_update=0.8, train_interval=4)"
   ]
  },
  {
   "cell_type": "code",
   "execution_count": 14,
   "metadata": {
    "ExecuteTime": {
     "end_time": "2017-10-15T01:01:00.093248Z",
     "start_time": "2017-10-15T01:00:59.584583Z"
    },
    "collapsed": true
   },
   "outputs": [],
   "source": [
    "agent.compile(keras.optimizers.Adam())"
   ]
  },
  {
   "cell_type": "code",
   "execution_count": 15,
   "metadata": {
    "ExecuteTime": {
     "end_time": "2017-10-15T01:02:21.948802Z",
     "start_time": "2017-10-15T01:01:00.261704Z"
    }
   },
   "outputs": [
    {
     "name": "stdout",
     "output_type": "stream",
     "text": [
      "Training for 100000 steps ...\n",
      "Interval 1 (0 steps performed)\n",
      "10000/10000 [==============================] - 70s - reward: 0.0475    \n",
      "2546 episodes - episode_reward: 0.186 [0.090, 1.213] - loss: 0.044 - mean_q: 0.675 - mean_q: 0.675 - mean_eps: 0.669\n",
      "\n",
      "Interval 2 (10000 steps performed)\n",
      " 1124/10000 [==>...........................] - ETA: 83s - reward: 0.0939done, took 81.662 seconds\n"
     ]
    },
    {
     "data": {
      "text/plain": [
       "<keras.callbacks.History at 0x7f4934265a90>"
      ]
     },
     "execution_count": 15,
     "metadata": {},
     "output_type": "execute_result"
    }
   ],
   "source": [
    "agent.fit(env, nb_steps=100000)"
   ]
  },
  {
   "cell_type": "code",
   "execution_count": 12,
   "metadata": {
    "ExecuteTime": {
     "end_time": "2017-10-15T00:59:02.804021Z",
     "start_time": "2017-10-15T00:59:02.705878Z"
    }
   },
   "outputs": [
    {
     "name": "stdout",
     "output_type": "stream",
     "text": [
      "Testing for 20 episodes ...\n",
      "Episode 1: reward: 0.236, steps: 4\n",
      "Episode 2: reward: 1.077, steps: 2\n",
      "Episode 3: reward: 1.077, steps: 2\n",
      "Episode 4: reward: 0.156, steps: 4\n",
      "Episode 5: reward: 1.077, steps: 2\n",
      "Episode 6: reward: 1.158, steps: 4\n",
      "Episode 7: reward: 1.213, steps: 4\n",
      "Episode 8: reward: 1.213, steps: 4\n",
      "Episode 9: reward: 1.077, steps: 2\n",
      "Episode 10: reward: 1.077, steps: 2\n",
      "Episode 11: reward: 1.158, steps: 4\n",
      "Episode 12: reward: 0.203, steps: 4\n",
      "Episode 13: reward: 1.077, steps: 2\n",
      "Episode 14: reward: 1.151, steps: 4\n",
      "Episode 15: reward: 1.077, steps: 2\n",
      "Episode 16: reward: 1.077, steps: 2\n",
      "Episode 17: reward: 0.199, steps: 4\n",
      "Episode 18: reward: 1.077, steps: 2\n",
      "Episode 19: reward: 1.077, steps: 2\n",
      "Episode 20: reward: 1.077, steps: 2\n"
     ]
    },
    {
     "data": {
      "text/plain": [
       "<keras.callbacks.History at 0x7f45e0ebab00>"
      ]
     },
     "execution_count": 12,
     "metadata": {},
     "output_type": "execute_result"
    }
   ],
   "source": [
    "agent.test(env, nb_episodes=20)"
   ]
  },
  {
   "cell_type": "code",
   "execution_count": 18,
   "metadata": {
    "ExecuteTime": {
     "end_time": "2017-10-15T00:49:50.020384Z",
     "start_time": "2017-10-15T00:49:50.005357Z"
    }
   },
   "outputs": [
    {
     "data": {
      "text/plain": [
       "7"
      ]
     },
     "execution_count": 18,
     "metadata": {},
     "output_type": "execute_result"
    }
   ],
   "source": [
    "agent.model.predict(np.reshape(cube, (1,1,3,3,3,3))).argmax()"
   ]
  },
  {
   "cell_type": "code",
   "execution_count": 19,
   "metadata": {
    "ExecuteTime": {
     "end_time": "2017-10-15T00:49:50.439431Z",
     "start_time": "2017-10-15T00:49:50.433709Z"
    }
   },
   "outputs": [],
   "source": [
    "env._rotations[7](cube)"
   ]
  },
  {
   "cell_type": "code",
   "execution_count": 20,
   "metadata": {
    "ExecuteTime": {
     "end_time": "2017-10-15T00:49:50.970658Z",
     "start_time": "2017-10-15T00:49:50.944837Z"
    }
   },
   "outputs": [
    {
     "data": {
      "text/plain": [
       "array([[[[ True,  True,  True],\n",
       "         [ True,  True,  True],\n",
       "         [ True,  True,  True]],\n",
       "\n",
       "        [[ True,  True,  True],\n",
       "         [ True,  True,  True],\n",
       "         [ True,  True,  True]],\n",
       "\n",
       "        [[ True,  True,  True],\n",
       "         [ True,  True,  True],\n",
       "         [ True,  True,  True]]],\n",
       "\n",
       "\n",
       "       [[[ True,  True,  True],\n",
       "         [ True,  True,  True],\n",
       "         [ True,  True,  True]],\n",
       "\n",
       "        [[ True,  True,  True],\n",
       "         [ True,  True,  True],\n",
       "         [ True,  True,  True]],\n",
       "\n",
       "        [[ True,  True,  True],\n",
       "         [ True,  True,  True],\n",
       "         [ True,  True,  True]]],\n",
       "\n",
       "\n",
       "       [[[ True,  True,  True],\n",
       "         [ True,  True,  True],\n",
       "         [ True,  True,  True]],\n",
       "\n",
       "        [[ True,  True,  True],\n",
       "         [ True,  True,  True],\n",
       "         [ True,  True,  True]],\n",
       "\n",
       "        [[ True,  True,  True],\n",
       "         [ True,  True,  True],\n",
       "         [ True,  True,  True]]]], dtype=bool)"
      ]
     },
     "execution_count": 20,
     "metadata": {},
     "output_type": "execute_result"
    }
   ],
   "source": [
    "cube == env._base_cube"
   ]
  },
  {
   "cell_type": "code",
   "execution_count": 73,
   "metadata": {
    "ExecuteTime": {
     "end_time": "2017-10-14T23:44:50.934262Z",
     "start_time": "2017-10-14T23:44:50.919994Z"
    }
   },
   "outputs": [
    {
     "data": {
      "text/plain": [
       "-7.5"
      ]
     },
     "execution_count": 73,
     "metadata": {},
     "output_type": "execute_result"
    }
   ],
   "source": [
    "rubiks_hamilton_dist(cube)"
   ]
  },
  {
   "cell_type": "code",
   "execution_count": null,
   "metadata": {
    "collapsed": true
   },
   "outputs": [],
   "source": []
  }
 ],
 "metadata": {
  "kernelspec": {
   "display_name": "Python 3",
   "language": "python",
   "name": "python3"
  },
  "language_info": {
   "codemirror_mode": {
    "name": "ipython",
    "version": 3
   },
   "file_extension": ".py",
   "mimetype": "text/x-python",
   "name": "python",
   "nbconvert_exporter": "python",
   "pygments_lexer": "ipython3",
   "version": "3.6.2"
  },
  "toc": {
   "colors": {
    "hover_highlight": "#DAA520",
    "navigate_num": "#000000",
    "navigate_text": "#333333",
    "running_highlight": "#FF0000",
    "selected_highlight": "#FFD700",
    "sidebar_border": "#EEEEEE",
    "wrapper_background": "#FFFFFF"
   },
   "moveMenuLeft": true,
   "nav_menu": {
    "height": "12px",
    "width": "252px"
   },
   "navigate_menu": true,
   "number_sections": true,
   "sideBar": true,
   "threshold": 4,
   "toc_cell": false,
   "toc_section_display": "block",
   "toc_window_display": false,
   "widenNotebook": false
  },
  "varInspector": {
   "cols": {
    "lenName": 16,
    "lenType": 16,
    "lenVar": 40
   },
   "kernels_config": {
    "python": {
     "delete_cmd_postfix": "",
     "delete_cmd_prefix": "del ",
     "library": "var_list.py",
     "varRefreshCmd": "print(var_dic_list())"
    },
    "r": {
     "delete_cmd_postfix": ") ",
     "delete_cmd_prefix": "rm(",
     "library": "var_list.r",
     "varRefreshCmd": "cat(var_dic_list()) "
    }
   },
   "types_to_exclude": [
    "module",
    "function",
    "builtin_function_or_method",
    "instance",
    "_Feature"
   ],
   "window_display": false
  }
 },
 "nbformat": 4,
 "nbformat_minor": 2
}
