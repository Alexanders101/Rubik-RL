{
 "cells": [
  {
   "cell_type": "code",
   "execution_count": 1,
   "metadata": {
    "ExecuteTime": {
     "end_time": "2017-10-13T19:48:42.566051Z",
     "start_time": "2017-10-13T19:48:42.492622Z"
    },
    "collapsed": true
   },
   "outputs": [],
   "source": [
    "import numpy as np"
   ]
  },
  {
   "cell_type": "code",
   "execution_count": 3,
   "metadata": {
    "ExecuteTime": {
     "end_time": "2017-10-13T19:48:44.686517Z",
     "start_time": "2017-10-13T19:48:44.668738Z"
    },
    "collapsed": true
   },
   "outputs": [],
   "source": [
    "NONE = 0\n",
    "WHITE = 1\n",
    "BLUE = 2\n",
    "GREEN = 3\n",
    "RED = 4\n",
    "ORANGE = 5\n",
    "YELLOW = 6"
   ]
  },
  {
   "cell_type": "code",
   "execution_count": 4,
   "metadata": {
    "ExecuteTime": {
     "end_time": "2017-10-13T19:48:44.883236Z",
     "start_time": "2017-10-13T19:48:44.870285Z"
    },
    "collapsed": true
   },
   "outputs": [],
   "source": [
    "cube = np.zeros(shape=(3,3,3,3), dtype=np.uint8)\n",
    "cube[:, :, 0, 2] = WHITE  # Front Face\n",
    "cube[:, :, 2, 2] = YELLOW # Back Face\n",
    "cube[:, 2, :, 1] = BLUE   # Top Face\n",
    "cube[:, 0, :, 1] = RED    # Bottom Face\n",
    "cube[2, :, :, 0] = GREEN  # Right Face\n",
    "cube[0, :, :, 0] = ORANGE # Left Face"
   ]
  },
  {
   "cell_type": "code",
   "execution_count": 5,
   "metadata": {
    "ExecuteTime": {
     "end_time": "2017-10-13T19:48:54.471696Z",
     "start_time": "2017-10-13T19:48:54.442487Z"
    }
   },
   "outputs": [
    {
     "data": {
      "text/plain": [
       "array([[[5, 4],\n",
       "        [5, 0],\n",
       "        [5, 2]],\n",
       "\n",
       "       [[0, 4],\n",
       "        [0, 0],\n",
       "        [0, 2]],\n",
       "\n",
       "       [[3, 4],\n",
       "        [3, 0],\n",
       "        [3, 2]]], dtype=uint8)"
      ]
     },
     "execution_count": 5,
     "metadata": {},
     "output_type": "execute_result"
    }
   ],
   "source": [
    "cube[:, :, 0, [0,1]]"
   ]
  },
  {
   "cell_type": "code",
   "execution_count": 4,
   "metadata": {
    "ExecuteTime": {
     "end_time": "2017-10-12T19:36:09.218786Z",
     "start_time": "2017-10-12T19:36:09.214416Z"
    },
    "collapsed": true
   },
   "outputs": [],
   "source": [
    "base_cude = cube.copy()"
   ]
  },
  {
   "cell_type": "markdown",
   "metadata": {},
   "source": [
    "Front Side Rotations"
   ]
  },
  {
   "cell_type": "code",
   "execution_count": 5,
   "metadata": {
    "ExecuteTime": {
     "end_time": "2017-10-12T19:36:10.134662Z",
     "start_time": "2017-10-12T19:36:10.060842Z"
    },
    "collapsed": true
   },
   "outputs": [],
   "source": [
    "def F(cube):\n",
    "    cube[:, :, 0] = np.rot90(cube[:, :, 0], k=3)\n",
    "    cube[:, :, 0, 0], cube[:, :, 0, 1] = cube[:, :, 0, 1].copy(), cube[:, :, 0, 0].copy()\n",
    "    \n",
    "def F2(cube):\n",
    "    cube[:, :, 0] = np.rot90(cube[:, :, 0], k=2)\n",
    "    \n",
    "def F_(cube):\n",
    "    cube[:, :, 0] = np.rot90(cube[:, :, 0], k=1)\n",
    "    cube[:, :, 0, 0], cube[:, :, 0, 1] = cube[:, :, 0, 1].copy(), cube[:, :, 0, 0].copy()"
   ]
  },
  {
   "cell_type": "markdown",
   "metadata": {
    "ExecuteTime": {
     "end_time": "2017-10-12T19:09:24.935128Z",
     "start_time": "2017-10-12T19:09:24.919115Z"
    }
   },
   "source": [
    "Back Side Rotation"
   ]
  },
  {
   "cell_type": "code",
   "execution_count": 6,
   "metadata": {
    "ExecuteTime": {
     "end_time": "2017-10-12T19:36:11.014526Z",
     "start_time": "2017-10-12T19:36:10.949516Z"
    },
    "collapsed": true
   },
   "outputs": [],
   "source": [
    "def B(cube):\n",
    "    cube[:, :, 2] = np.rot90(cube[:, :, 2], k=1)\n",
    "    cube[:, :, 2, 0], cube[:, :, 2, 1] = cube[:, :, 2, 1].copy(), cube[:, :, 2, 0].copy()\n",
    "    \n",
    "def B2(cube):\n",
    "    cube[:, :, 2] = np.rot90(cube[:, :, 2], k=2)\n",
    "    \n",
    "def B_(cube):\n",
    "    cube[:, :, 2] = np.rot90(cube[:, :, 2], k=3)\n",
    "    cube[:, :, 2, 0], cube[:, :, 2, 1] = cube[:, :, 2, 1].copy(), cube[:, :, 2, 0].copy()"
   ]
  },
  {
   "cell_type": "markdown",
   "metadata": {},
   "source": [
    "Right Face Rotation"
   ]
  },
  {
   "cell_type": "code",
   "execution_count": 7,
   "metadata": {
    "ExecuteTime": {
     "end_time": "2017-10-12T19:36:11.953743Z",
     "start_time": "2017-10-12T19:36:11.849809Z"
    },
    "collapsed": true
   },
   "outputs": [],
   "source": [
    "def R(cube):\n",
    "    cube[2, :, :] = np.rot90(cube[2, :, :], k=1)\n",
    "    cube[2, :, :, 1], cube[2, :, :, 2] = cube[2, :, :, 2].copy(), cube[2, :, :, 1].copy()\n",
    "\n",
    "def R2(cube):\n",
    "    cube[2, :, :] = np.rot90(cube[2, :, :], k=2)\n",
    "    \n",
    "def R_(cube):\n",
    "    cube[2, :, :] = np.rot90(cube[2, :, :], k=3)\n",
    "    cube[2, :, :, 1], cube[2, :, :, 2] = cube[2, :, :, 2].copy(), cube[2, :, :, 1].copy()"
   ]
  },
  {
   "cell_type": "markdown",
   "metadata": {},
   "source": [
    "Left Face Rotation"
   ]
  },
  {
   "cell_type": "code",
   "execution_count": 8,
   "metadata": {
    "ExecuteTime": {
     "end_time": "2017-10-12T19:36:12.859788Z",
     "start_time": "2017-10-12T19:36:12.775282Z"
    },
    "collapsed": true
   },
   "outputs": [],
   "source": [
    "def L(cube):\n",
    "    cube[0, :, :] = np.rot90(cube[0, :, :], k=3)\n",
    "    cube[0, :, :, 1], cube[0, :, :, 2] = cube[0, :, :, 2].copy(), cube[0, :, :, 1].copy()\n",
    "    \n",
    "def L2(cube):\n",
    "    cube[0, :, :] = np.rot90(cube[0, :, :], k=2)\n",
    "    \n",
    "def L_(cube):\n",
    "    cube[0, :, :] = np.rot90(cube[0, :, :], k=1)\n",
    "    cube[0, :, :, 1], cube[0, :, :, 2] = cube[0, :, :, 2].copy(), cube[0, :, :, 1].copy()"
   ]
  },
  {
   "cell_type": "markdown",
   "metadata": {},
   "source": [
    "Top Face Rotation"
   ]
  },
  {
   "cell_type": "code",
   "execution_count": 9,
   "metadata": {
    "ExecuteTime": {
     "end_time": "2017-10-12T19:36:13.770081Z",
     "start_time": "2017-10-12T19:36:13.679327Z"
    },
    "collapsed": true
   },
   "outputs": [],
   "source": [
    "def T(cube):\n",
    "    cube[:, 2, :] = np.rot90(cube[:, 2, :], k=3)\n",
    "    cube[:, 2, :, 0], cube[:, 2, :, 2] = cube[:, 2, :, 2].copy(), cube[:, 2, :, 0].copy()\n",
    "    \n",
    "def T2(cube):\n",
    "    cube[:, 2, :] = np.rot90(cube[:, 2, :], k=2)\n",
    "    \n",
    "def T(cube):\n",
    "    cube[:, 2, :] = np.rot90(cube[:, 2, :], k=1)\n",
    "    cube[:, 2, :, 0], cube[:, 2, :, 2] = cube[:, 2, :, 2].copy(), cube[:, 2, :, 0].copy()"
   ]
  },
  {
   "cell_type": "markdown",
   "metadata": {},
   "source": [
    "Down Face Rotation"
   ]
  },
  {
   "cell_type": "code",
   "execution_count": 10,
   "metadata": {
    "ExecuteTime": {
     "end_time": "2017-10-12T19:36:14.955521Z",
     "start_time": "2017-10-12T19:36:14.911892Z"
    },
    "collapsed": true
   },
   "outputs": [],
   "source": [
    "def D(cube):\n",
    "    cube[:, 0, :] = np.rot90(cube[:, 0, :], k=1)\n",
    "    cube[:, 0, :, 0], cube[:, 0, :, 2] = cube[:, 0, :, 2].copy(), cube[:, 0, :, 0].copy()\n",
    "    \n",
    "def D2(cube):\n",
    "    cube[:, 0, :] = np.rot90(cube[:, 0, :], k=2)\n",
    "    \n",
    "def D_(cube):\n",
    "    cube[:, 0, :] = np.rot90(cube[:, 0, :], k=3)\n",
    "    cube[:, 0, :, 0], cube[:, 0, :, 2] = cube[:, 0, :, 2].copy(), cube[:, 0, :, 0].copy()"
   ]
  },
  {
   "cell_type": "code",
   "execution_count": 52,
   "metadata": {
    "ExecuteTime": {
     "end_time": "2017-10-12T19:37:05.403951Z",
     "start_time": "2017-10-12T19:37:05.398060Z"
    }
   },
   "outputs": [
    {
     "data": {
      "text/plain": [
       "False"
      ]
     },
     "execution_count": 52,
     "metadata": {},
     "output_type": "execute_result"
    }
   ],
   "source": [
    "R(cube)\n",
    "D(cube)\n",
    "(cube == base_cude).all()"
   ]
  },
  {
   "cell_type": "code",
   "execution_count": 11,
   "metadata": {
    "ExecuteTime": {
     "end_time": "2017-10-12T19:36:27.967695Z",
     "start_time": "2017-10-12T19:36:27.955529Z"
    },
    "collapsed": true
   },
   "outputs": [],
   "source": [
    "R(cube)\n",
    "D(cube)"
   ]
  },
  {
   "cell_type": "code",
   "execution_count": 53,
   "metadata": {
    "ExecuteTime": {
     "end_time": "2017-10-12T19:37:07.124309Z",
     "start_time": "2017-10-12T19:37:07.110618Z"
    }
   },
   "outputs": [
    {
     "data": {
      "text/plain": [
       "array([5, 2, 1], dtype=uint8)"
      ]
     },
     "execution_count": 53,
     "metadata": {},
     "output_type": "execute_result"
    }
   ],
   "source": [
    "cube[0, 2, 0]"
   ]
  },
  {
   "cell_type": "code",
   "execution_count": 54,
   "metadata": {
    "ExecuteTime": {
     "end_time": "2017-10-12T19:37:07.306402Z",
     "start_time": "2017-10-12T19:37:07.301476Z"
    }
   },
   "outputs": [
    {
     "data": {
      "text/plain": [
       "array([5, 2, 1], dtype=uint8)"
      ]
     },
     "execution_count": 54,
     "metadata": {},
     "output_type": "execute_result"
    }
   ],
   "source": [
    "base_cude[0, 2, 0]"
   ]
  },
  {
   "cell_type": "code",
   "execution_count": 55,
   "metadata": {
    "ExecuteTime": {
     "end_time": "2017-10-12T19:37:11.568510Z",
     "start_time": "2017-10-12T19:37:11.549710Z"
    }
   },
   "outputs": [
    {
     "data": {
      "text/plain": [
       "array([[[[4, 3, 1],\n",
       "         [3, 1, 0],\n",
       "         [5, 1, 4]],\n",
       "\n",
       "        [[5, 0, 1],\n",
       "         [5, 0, 0],\n",
       "         [5, 0, 6]],\n",
       "\n",
       "        [[5, 2, 1],\n",
       "         [5, 2, 0],\n",
       "         [5, 2, 6]]],\n",
       "\n",
       "\n",
       "       [[[0, 2, 3],\n",
       "         [0, 4, 0],\n",
       "         [0, 4, 3]],\n",
       "\n",
       "        [[0, 0, 1],\n",
       "         [0, 0, 0],\n",
       "         [0, 0, 6]],\n",
       "\n",
       "        [[0, 2, 1],\n",
       "         [0, 2, 0],\n",
       "         [0, 2, 6]]],\n",
       "\n",
       "\n",
       "       [[[2, 3, 1],\n",
       "         [3, 6, 0],\n",
       "         [3, 4, 6]],\n",
       "\n",
       "        [[6, 0, 4],\n",
       "         [3, 0, 0],\n",
       "         [1, 0, 4]],\n",
       "\n",
       "        [[6, 2, 3],\n",
       "         [5, 4, 0],\n",
       "         [4, 6, 5]]]], dtype=uint8)"
      ]
     },
     "execution_count": 55,
     "metadata": {},
     "output_type": "execute_result"
    }
   ],
   "source": [
    "cube"
   ]
  },
  {
   "cell_type": "code",
   "execution_count": null,
   "metadata": {
    "collapsed": true
   },
   "outputs": [],
   "source": []
  }
 ],
 "metadata": {
  "kernelspec": {
   "display_name": "Python 3",
   "language": "python",
   "name": "python3"
  },
  "language_info": {
   "codemirror_mode": {
    "name": "ipython",
    "version": 3
   },
   "file_extension": ".py",
   "mimetype": "text/x-python",
   "name": "python",
   "nbconvert_exporter": "python",
   "pygments_lexer": "ipython3",
   "version": "3.6.2"
  },
  "toc": {
   "colors": {
    "hover_highlight": "#DAA520",
    "navigate_num": "#000000",
    "navigate_text": "#333333",
    "running_highlight": "#FF0000",
    "selected_highlight": "#FFD700",
    "sidebar_border": "#EEEEEE",
    "wrapper_background": "#FFFFFF"
   },
   "moveMenuLeft": true,
   "nav_menu": {
    "height": "12px",
    "width": "252px"
   },
   "navigate_menu": true,
   "number_sections": true,
   "sideBar": true,
   "threshold": 4,
   "toc_cell": false,
   "toc_section_display": "block",
   "toc_window_display": false,
   "widenNotebook": false
  },
  "varInspector": {
   "cols": {
    "lenName": 16,
    "lenType": 16,
    "lenVar": 40
   },
   "kernels_config": {
    "python": {
     "delete_cmd_postfix": "",
     "delete_cmd_prefix": "del ",
     "library": "var_list.py",
     "varRefreshCmd": "print(var_dic_list())"
    },
    "r": {
     "delete_cmd_postfix": ") ",
     "delete_cmd_prefix": "rm(",
     "library": "var_list.r",
     "varRefreshCmd": "cat(var_dic_list()) "
    }
   },
   "types_to_exclude": [
    "module",
    "function",
    "builtin_function_or_method",
    "instance",
    "_Feature"
   ],
   "window_display": false
  }
 },
 "nbformat": 4,
 "nbformat_minor": 2
}
